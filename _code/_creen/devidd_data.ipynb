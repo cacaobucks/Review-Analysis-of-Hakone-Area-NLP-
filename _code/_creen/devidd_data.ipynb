{
 "cells": [
  {
   "cell_type": "code",
   "execution_count": 1,
   "metadata": {},
   "outputs": [
    {
     "data": {
      "text/html": [
       "<div>\n",
       "<style scoped>\n",
       "    .dataframe tbody tr th:only-of-type {\n",
       "        vertical-align: middle;\n",
       "    }\n",
       "\n",
       "    .dataframe tbody tr th {\n",
       "        vertical-align: top;\n",
       "    }\n",
       "\n",
       "    .dataframe thead th {\n",
       "        text-align: right;\n",
       "    }\n",
       "</style>\n",
       "<table border=\"1\" class=\"dataframe\">\n",
       "  <thead>\n",
       "    <tr style=\"text-align: right;\">\n",
       "      <th></th>\n",
       "      <th>口コミ</th>\n",
       "      <th>投稿日</th>\n",
       "    </tr>\n",
       "  </thead>\n",
       "  <tbody>\n",
       "    <tr>\n",
       "      <th>0</th>\n",
       "      <td>今回家族旅行で利用させていただきました。和室で広々としたお部屋ですごくゆっくり過ごせました。...</td>\n",
       "      <td>2023/10/2</td>\n",
       "    </tr>\n",
       "    <tr>\n",
       "      <th>1</th>\n",
       "      <td>ホテルには併設された、日帰り風呂施設の大浴場が利用できました。露天風呂がありとても広くて良か...</td>\n",
       "      <td>2023/9/20</td>\n",
       "    </tr>\n",
       "    <tr>\n",
       "      <th>2</th>\n",
       "      <td>家族旅行で和室を利用。広々と開放的です。夕飯は揚げ物の天ぷらが美味しく宿泊値段を考えるとコス...</td>\n",
       "      <td>2023/9/19</td>\n",
       "    </tr>\n",
       "    <tr>\n",
       "      <th>3</th>\n",
       "      <td>始めに同じ系列店と勘違いしましたが丁寧に案内うけ、無事にチェックイン。部屋はリニューアルされ...</td>\n",
       "      <td>2023/9/14</td>\n",
       "    </tr>\n",
       "    <tr>\n",
       "      <th>4</th>\n",
       "      <td>部屋は壁紙がオシャレで綺麗でした！ただ水の出が悪く歯を磨いたり顔を洗うのに不便でした。温泉は...</td>\n",
       "      <td>2023/9/11</td>\n",
       "    </tr>\n",
       "  </tbody>\n",
       "</table>\n",
       "</div>"
      ],
      "text/plain": [
       "                                                 口コミ        投稿日\n",
       "0  今回家族旅行で利用させていただきました。和室で広々としたお部屋ですごくゆっくり過ごせました。...  2023/10/2\n",
       "1  ホテルには併設された、日帰り風呂施設の大浴場が利用できました。露天風呂がありとても広くて良か...  2023/9/20\n",
       "2  家族旅行で和室を利用。広々と開放的です。夕飯は揚げ物の天ぷらが美味しく宿泊値段を考えるとコス...  2023/9/19\n",
       "3  始めに同じ系列店と勘違いしましたが丁寧に案内うけ、無事にチェックイン。部屋はリニューアルされ...  2023/9/14\n",
       "4  部屋は壁紙がオシャレで綺麗でした！ただ水の出が悪く歯を磨いたり顔を洗うのに不便でした。温泉は...  2023/9/11"
      ]
     },
     "execution_count": 1,
     "metadata": {},
     "output_type": "execute_result"
    }
   ],
   "source": [
    "import pandas as pd\n",
    "\n",
    "# ファイルのパス\n",
    "file_path = '全エリア.csv'\n",
    "\n",
    "# CSVファイルの読み込み\n",
    "data = pd.read_csv(file_path)\n",
    "\n",
    "# データの先頭5行を表示して中身を確認\n",
    "data.head()"
   ]
  },
  {
   "cell_type": "code",
   "execution_count": 4,
   "metadata": {},
   "outputs": [
    {
     "name": "stdout",
     "output_type": "stream",
     "text": [
      "period_1: (865, 2)\n",
      "period_2: (3624, 2)\n",
      "period_3: (278, 2)\n"
     ]
    }
   ],
   "source": [
    "# 投稿日カラムを日付型に変換（エラーがあればNaNになる）\n",
    "data['投稿日'] = pd.to_datetime(data['投稿日'], errors='coerce', format='%Y/%m/%d')\n",
    "\n",
    "# 指定された期間の範囲を定義\n",
    "periods = [\n",
    "    ('2019-02-01', '2019-12-30'),\n",
    "    ('2020-01-01', '2022-09-30'),\n",
    "    ('2022-10-01', '2023-08-30'),\n",
    "]\n",
    "\n",
    "# 各期間ごとにデータを分類してCSVファイルとして出力\n",
    "for i, (start_date, end_date) in enumerate(periods, start=1):\n",
    "    mask = (data['投稿日'] >= start_date) & (data['投稿日'] <= end_date)\n",
    "    period_data = data.loc[mask]\n",
    "    period_data.to_csv(f'period_{i}.csv', index=False)\n",
    "\n",
    "# 各期間のデータフレームのサイズを表示して分類結果を確認\n",
    "for key, df in data_periods.items():\n",
    "    print(f\"{key}: {df.shape}\")"
   ]
  }
 ],
 "metadata": {
  "kernelspec": {
   "display_name": "cacaobucks",
   "language": "python",
   "name": "python3"
  },
  "language_info": {
   "codemirror_mode": {
    "name": "ipython",
    "version": 3
   },
   "file_extension": ".py",
   "mimetype": "text/x-python",
   "name": "python",
   "nbconvert_exporter": "python",
   "pygments_lexer": "ipython3",
   "version": "3.9.17"
  }
 },
 "nbformat": 4,
 "nbformat_minor": 2
}
